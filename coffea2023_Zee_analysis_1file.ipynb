{
 "cells": [
  {
   "cell_type": "markdown",
   "metadata": {},
   "source": [
    "# PHYSLITE columnar Zee analysis using coffea2023"
   ]
  },
  {
   "cell_type": "markdown",
   "metadata": {},
   "source": [
    "<b>Package imports and versions</b>"
   ]
  },
  {
   "cell_type": "code",
   "execution_count": 1,
   "metadata": {},
   "outputs": [],
   "source": [
    "from pathlib import Path\n",
    "import warnings\n",
    "\n",
    "import hist\n",
    "import awkward as ak\n",
    "import dask_awkward as dak\n",
    "import coffea\n",
    "import uproot\n",
    "from coffea.nanoevents import NanoEventsFactory, PHYSLITESchema\n",
    "import dask_awkward as dak"
   ]
  },
  {
   "cell_type": "code",
   "execution_count": 2,
   "metadata": {},
   "outputs": [
    {
     "name": "stdout",
     "output_type": "stream",
     "text": [
      "coffea version: 2023.10.0rc1\n",
      "awkward version: 2.5.1\n",
      "dask-awkward version: 2023.12.2\n",
      "uproot version: 5.1.2\n",
      "hist version: 2.7.2\n"
     ]
    }
   ],
   "source": [
    "print(f\"coffea version: {coffea.__version__}\")\n",
    "print(f\"awkward version: {ak.__version__}\")\n",
    "print(f\"dask-awkward version: {dak.__version__}\")\n",
    "print(f\"uproot version: {uproot.__version__}\")\n",
    "print(f\"hist version: {hist.__version__}\")"
   ]
  },
  {
   "cell_type": "markdown",
   "metadata": {},
   "source": [
    "<b>Input PHYSLITE dataset</b>\n",
    "- `mc20_13TeV.700320.Sh_2211_Zee_maxHTpTV2_BFilter.deriv.DAOD_PHYSLITE.e8351_s3681_r13167_p5855`\n",
    "- 330 files / 497 GB / 35.6Mevts"
   ]
  },
  {
   "cell_type": "code",
   "execution_count": 3,
   "metadata": {},
   "outputs": [
    {
     "name": "stdout",
     "output_type": "stream",
     "text": [
      "Total #files = 330\n"
     ]
    }
   ],
   "source": [
    "local_input_path = \"/data_ceph/kyungeon/PHYSLITE/\"\n",
    "dataset = \"mc20_13TeV.700320.Sh_2211_Zee_maxHTpTV2_BFilter.deriv.DAOD_PHYSLITE.e8351_s3681_r13167_p5855\"\n",
    "# dataset = \"mc20_13TeV.700320.Sh_2211_Zee_maxHTpTV2_BFilter.deriv.DAOD_PHYSLITE.e8351_s3681_r13167_p5631\"\n",
    "files = list(Path(local_input_path+dataset).glob(\"*root.1\"))\n",
    "print(f\"Total #files = {len(files)}\")\n",
    "\n",
    "files = files[0:1]"
   ]
  },
  {
   "cell_type": "code",
   "execution_count": 4,
   "metadata": {},
   "outputs": [
    {
     "data": {
      "text/plain": [
       "1"
      ]
     },
     "execution_count": 4,
     "metadata": {},
     "output_type": "execute_result"
    }
   ],
   "source": [
    "len(files)"
   ]
  },
  {
   "cell_type": "markdown",
   "metadata": {},
   "source": [
    "<b>Load dask awkward arrays with coffea PHYSLITEschema</b>"
   ]
  },
  {
   "cell_type": "code",
   "execution_count": 5,
   "metadata": {},
   "outputs": [],
   "source": [
    "def get_events(files):\n",
    "    factory = NanoEventsFactory.from_root(\n",
    "        {fi:\"CollectionTree\" for fi in files},\n",
    "        schemaclass=PHYSLITESchema,\n",
    "        permit_dask=True\n",
    "    )\n",
    "\n",
    "    with warnings.catch_warnings():\n",
    "        warnings.simplefilter(\"ignore\")\n",
    "        events = factory.events()\n",
    "    \n",
    "    return events"
   ]
  },
  {
   "cell_type": "markdown",
   "metadata": {},
   "source": [
    "<b>Event selection</b>\n",
    "- 2 electrons\n",
    "- Opposite charge"
   ]
  },
  {
   "cell_type": "code",
   "execution_count": 6,
   "metadata": {},
   "outputs": [],
   "source": [
    "def event_selection(events):\n",
    "    cut_2el = ak.num(events.Electrons, axis=1) == 2\n",
    "    cut_charge = ak.sum(events.Electrons.charge, axis=1) == 0\n",
    "\n",
    "    selections = cut_2el & cut_charge\n",
    "    \n",
    "    return events[selections]"
   ]
  },
  {
   "cell_type": "markdown",
   "metadata": {},
   "source": [
    "<b>Reconstruct Z</b>"
   ]
  },
  {
   "cell_type": "code",
   "execution_count": 7,
   "metadata": {},
   "outputs": [],
   "source": [
    "def reconstruct_z(events):\n",
    "    el_pair = ak.combinations(events.Electrons, 2)\n",
    "    el1, el2 = ak.unzip(el_pair)\n",
    "    el_pair[\"p4\"] = el1 + el2\n",
    "    return el_pair.p4"
   ]
  },
  {
   "cell_type": "markdown",
   "metadata": {},
   "source": [
    "<b>Define histograms</b>"
   ]
  },
  {
   "cell_type": "code",
   "execution_count": 8,
   "metadata": {},
   "outputs": [],
   "source": [
    "import hist.dask as dah\n",
    "\n",
    "def get_histograms():\n",
    "    return dah.Hist(\n",
    "        dah.Hist.new.Reg(100, 0, 200_000, name=\"z_mass\", label=r\"$m_{ee}$ [GeV]\"),\n",
    "        storage=\"weight\"\n",
    "    )"
   ]
  },
  {
   "cell_type": "markdown",
   "metadata": {},
   "source": [
    "<b>Build analysis</b>"
   ]
  },
  {
   "cell_type": "code",
   "execution_count": 9,
   "metadata": {},
   "outputs": [],
   "source": [
    "evts = get_events(files)\n",
    "\n",
    "selected_evts = event_selection(evts)\n",
    "\n",
    "el_pair_p4 = reconstruct_z(selected_evts)\n",
    "\n",
    "h = get_histograms()\n",
    "\n",
    "output = h.fill(z_mass=ak.flatten(el_pair_p4.mass))\n",
    "# output = h.fill(z_mass=ak.flatten(selected_evts.Electrons.pt))"
   ]
  },
  {
   "cell_type": "markdown",
   "metadata": {},
   "source": [
    "Columns for the analysis"
   ]
  },
  {
   "cell_type": "code",
   "execution_count": 10,
   "metadata": {},
   "outputs": [
    {
     "data": {
      "text/plain": [
       "{'from-uproot-02e21ac792fed05a0f403317df0bb936': frozenset({'AnalysisElectronsAuxDyn.charge',\n",
       "            'AnalysisElectronsAuxDyn.eta',\n",
       "            'AnalysisElectronsAuxDyn.m',\n",
       "            'AnalysisElectronsAuxDyn.phi',\n",
       "            'AnalysisElectronsAuxDyn.pt',\n",
       "            'AnalysisElectronsAuxDyn.trackParticleLinks'})}"
      ]
     },
     "execution_count": 10,
     "metadata": {},
     "output_type": "execute_result"
    }
   ],
   "source": [
    "dak.necessary_columns(output)"
   ]
  },
  {
   "cell_type": "markdown",
   "metadata": {},
   "source": [
    "dask task graph"
   ]
  },
  {
   "cell_type": "code",
   "execution_count": 11,
   "metadata": {},
   "outputs": [
    {
     "data": {
      "application/vnd.jupyter.widget-view+json": {
       "model_id": "43e441d9ee204f68a52a136835ab51d7",
       "version_major": 2,
       "version_minor": 0
      },
      "text/plain": [
       "CytoscapeWidget(cytoscape_layout={'name': 'dagre', 'rankDir': 'BT', 'nodeSep': 10, 'edgeSep': 10, 'spacingFact…"
      ]
     },
     "execution_count": 11,
     "metadata": {},
     "output_type": "execute_result"
    }
   ],
   "source": [
    "output.visualize(optimize_graph=True)\n",
    "# el_pair_p4.visualize(optimize_graph=True)"
   ]
  },
  {
   "cell_type": "markdown",
   "metadata": {},
   "source": [
    "<b>Get results</b>\n",
    "\n",
    "Set up local dask cluster"
   ]
  },
  {
   "cell_type": "code",
   "execution_count": 12,
   "metadata": {},
   "outputs": [],
   "source": [
    "from dask.distributed import LocalCluster, Client\n",
    "cluster = LocalCluster(n_workers=1, threads_per_worker=1)\n",
    "client = Client(cluster)"
   ]
  },
  {
   "cell_type": "code",
   "execution_count": 13,
   "metadata": {},
   "outputs": [],
   "source": [
    "# client"
   ]
  },
  {
   "cell_type": "markdown",
   "metadata": {},
   "source": [
    "Compute dask graphs"
   ]
  },
  {
   "cell_type": "code",
   "execution_count": 14,
   "metadata": {},
   "outputs": [],
   "source": [
    "out_hist = output.compute()"
   ]
  },
  {
   "cell_type": "markdown",
   "metadata": {},
   "source": [
    "<b>Plot histgorams</b>"
   ]
  },
  {
   "cell_type": "code",
   "execution_count": 15,
   "metadata": {},
   "outputs": [],
   "source": [
    "import mplhep as mpl\n",
    "import matplotlib.pyplot as plt\n",
    "plt.style.use(mpl.style.ATLAS)"
   ]
  },
  {
   "cell_type": "code",
   "execution_count": 16,
   "metadata": {},
   "outputs": [
    {
     "data": {
      "image/png": "[encoded data removed]",
      "text/plain": [
       "<Figure size 800x600 with 1 Axes>"
      ]
     },
     "metadata": {},
     "output_type": "display_data"
    }
   ],
   "source": [
    "mpl.histplot(out_hist, edges=[0, 150_000]);"
   ]
  },
  {
   "cell_type": "markdown",
   "metadata": {},
   "source": [
    "Shutdown dask cluster"
   ]
  },
  {
   "cell_type": "code",
   "execution_count": 17,
   "metadata": {},
   "outputs": [],
   "source": [
    "client.close()\n",
    "cluster.close()"
   ]
  },
  {
   "cell_type": "code",
   "execution_count": null,
   "metadata": {},
   "outputs": [],
   "source": []
  }
 ],
 "metadata": {
  "kernelspec": {
   "display_name": "coffea2023",
   "language": "python",
   "name": "python3"
  },
  "language_info": {
   "codemirror_mode": {
    "name": "ipython",
    "version": 3
   },
   "file_extension": ".py",
   "mimetype": "text/x-python",
   "name": "python",
   "nbconvert_exporter": "python",
   "pygments_lexer": "ipython3",
   "version": "3.9.18"
  }
 },
 "nbformat": 4,
 "nbformat_minor": 2
}
